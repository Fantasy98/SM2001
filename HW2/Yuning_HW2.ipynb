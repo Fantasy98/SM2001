{
 "cells": [
  {
   "cell_type": "code",
   "execution_count": 1,
   "metadata": {},
   "outputs": [],
   "source": [
    "import numpy as np \n",
    "import numpy.linalg as LA\n",
    "from matplotlib import pyplot as plt\n",
    "import pandas as pd\n",
    "import sklearn\n",
    "from scipy.io import loadmat"
   ]
  },
  {
   "cell_type": "markdown",
   "metadata": {},
   "source": [
    "# Homework 2 "
   ]
  },
  {
   "cell_type": "markdown",
   "metadata": {},
   "source": [
    "## 1 Load the Data\n",
    "+ The fifirst column is the strength [MPa]\n",
    "+ the second strain to failure [%],\n",
    "+ the third column is the elastic modulus [GPa]\n",
    "+ stress\n",
    "=\n",
    "(elastic modulus)\n",
    "×\n",
    "strain."
   ]
  },
  {
   "cell_type": "code",
   "execution_count": 2,
   "metadata": {},
   "outputs": [
    {
     "name": "stdout",
     "output_type": "stream",
     "text": [
      "Shape of Data X is (30, 3)\n"
     ]
    }
   ],
   "source": [
    "DATA = loadmat(\"data.mat\")\n",
    "X = DATA[\"X\"]\n",
    "print(f\"Shape of Data X is {X.shape}\")"
   ]
  },
  {
   "cell_type": "code",
   "execution_count": 3,
   "metadata": {},
   "outputs": [
    {
     "data": {
      "text/plain": [
       "((30, 1), (30, 1))"
      ]
     },
     "execution_count": 3,
     "metadata": {},
     "output_type": "execute_result"
    }
   ],
   "source": [
    "# Strength\n",
    "from ast import Str\n",
    "\n",
    "\n",
    "Strength = X[:,0]\n",
    "Strength = np.expand_dims(Strength,axis = -1)\n",
    "# Strain\n",
    "Strain = X[:,1]\n",
    "Strain = np.expand_dims(Strain,axis=-1)\n",
    "# Elastic modulus\n",
    "Elastic = X[:,2]/100\n",
    "Elastic = np.expand_dims(Elastic,axis = -1)\n",
    "Stress = Strain * Elastic\n",
    "Stress.shape,Elastic.shape"
   ]
  },
  {
   "cell_type": "markdown",
   "metadata": {},
   "source": [
    "## 1.1 Visualize Data"
   ]
  },
  {
   "cell_type": "code",
   "execution_count": 4,
   "metadata": {},
   "outputs": [
    {
     "data": {
      "image/png": "[encoded data removed]",
      "text/plain": [
       "<Figure size 576x504 with 1 Axes>"
      ]
     },
     "metadata": {
      "needs_background": "light"
     },
     "output_type": "display_data"
    }
   ],
   "source": [
    "plt.figure(figsize=(8,7))\n",
    "plt.plot(Strain,Stress,\"o\",markersize = 12)\n",
    "plt.xlabel(\"Strain (MPa)\")\n",
    "plt.ylabel(\"Stress (MPa)\")\n",
    "plt.savefig(\"DataVisualize\")"
   ]
  },
  {
   "cell_type": "markdown",
   "metadata": {},
   "source": [
    "## 1.2 Data preprocessing: Normalization"
   ]
  },
  {
   "cell_type": "code",
   "execution_count": 5,
   "metadata": {},
   "outputs": [
    {
     "name": "stdout",
     "output_type": "stream",
     "text": [
      "Before normalization: The min and max value in dataset is 0.09103008535174992 ~ 0.13966205284397537\n",
      "After normalization: The min and max value in dataset is -1.743249679181587 ~ 1.8187515575392719\n"
     ]
    }
   ],
   "source": [
    "# To normalize data, minus mean value and divided by standard deviation\n",
    "print(f\"Before normalization: The min and max value in dataset is {np.min(Stress)} ~ {np.max(Stress)}\")\n",
    "# Two lists to store mean and std for each type of data for recover\n",
    "def Normalization(X):\n",
    "    mean = np.mean(X)\n",
    "    std = np.std(X)\n",
    "    X = (X -mean)/std\n",
    "\n",
    "    return X,mean,std\n",
    "\n",
    "Stress,Mean_stress,Std_stress = Normalization(Stress)\n",
    "## To prove that we have all value in same scale:\n",
    "print(f\"After normalization: The min and max value in dataset is {np.min(Stress)} ~ {np.max(Stress)}\")\n"
   ]
  },
  {
   "cell_type": "markdown",
   "metadata": {},
   "source": [
    "# 2 K-Means Algorithm"
   ]
  },
  {
   "cell_type": "code",
   "execution_count": 6,
   "metadata": {},
   "outputs": [],
   "source": [
    "class KMeans:\n",
    "    def __init__(self,k):\n",
    "    # Number of K \n",
    "        self.k = k \n",
    "    def train(self,X,MaxIter=1500,TOL=1e-3):\n",
    "        centroids = np.random.rand(self.k,X.shape[1])\n",
    "        centroidsold = centroids.copy()\n",
    "        for iter_ in np.arange(MaxIter):\n",
    "            # L1 norm \n",
    "            dist = LA.norm(X - centroids[0,:],axis=1).reshape(-1,1)\n",
    "            for class_ in np.arange(1,self.k):\n",
    "                dist = np.append( dist,LA.norm(X-centroids[class_,:],axis=1).reshape(-1,1) ,axis=1)\n",
    "            \n",
    "            ## Sort out the class by choose the argmin\n",
    "            classes =np.argmin(dist,axis=1)\n",
    "\n",
    "            # Update new position of centriod by computing mean value\n",
    "            for class_ in set(classes):\n",
    "                centroids[class_,:] = np.mean(X[classes==class_,:],axis=0)\n",
    "            # tolerance\n",
    "            if LA.norm(centroids-centroidsold) <= TOL:\n",
    "                print(\"Centroid has been converged\")\n",
    "                break\n",
    "        # save the final centroids\n",
    "        self.centroids = centroids\n",
    "\n",
    "    def predict(self,X):\n",
    "        dist = LA.norm(X - self.centroids[0,:],axis=1).reshape(-1,1)   \n",
    "        for class_ in range(1,self.k):\n",
    "            dist = np.append( dist,LA.norm(X-self.centroids[class_,:],axis=1).reshape(-1,1) ,axis=1)\n",
    "        classes = np.argmin(dist,axis=1)\n",
    "        return classes"
   ]
  },
  {
   "cell_type": "code",
   "execution_count": 7,
   "metadata": {},
   "outputs": [],
   "source": [
    "kmean = KMeans(3)\n",
    "kmean.train(Stress)\n",
    "classes=kmean.predict(Stress)\n",
    "classes_copy = classes.copy()\n",
    "centroid = kmean.centroids"
   ]
  },
  {
   "cell_type": "code",
   "execution_count": 8,
   "metadata": {},
   "outputs": [
    {
     "data": {
      "image/png": "[encoded data removed]",
      "text/plain": [
       "<Figure size 576x504 with 1 Axes>"
      ]
     },
     "metadata": {
      "needs_background": "light"
     },
     "output_type": "display_data"
    }
   ],
   "source": [
    "\n",
    "# Rescale Data to original scale\n",
    "Stress_re = Stress*Std_stress + Mean_stress\n",
    "plt.figure(figsize=(8,7))\n",
    "plt.plot(Strain[classes==0],Stress_re[classes==0],\"o\",markersize = 12,label=\"Class 1\")\n",
    "plt.plot(Strain[classes==1],Stress_re[classes==1],\"x\",markersize = 12,label=\"Class 2\")\n",
    "plt.plot(Strain[classes==2],Stress_re[classes==2],\"s\",markersize = 12,label=\"Class 3\")\n",
    "plt.legend()\n",
    "plt.xlabel(\"Strain (MPa)\")\n",
    "plt.ylabel(\"Stress (MPa)\")\n",
    "\n",
    "plt.savefig(\"KMeans\")"
   ]
  },
  {
   "cell_type": "code",
   "execution_count": 9,
   "metadata": {},
   "outputs": [],
   "source": [
    "from sklearn.cluster import KMeans\n",
    "kmeans = KMeans(n_clusters=3,init=\"random\")\n",
    "classes =kmeans.fit_predict(Stress)\n",
    "centers = kmeans.cluster_centers_"
   ]
  },
  {
   "cell_type": "code",
   "execution_count": 10,
   "metadata": {},
   "outputs": [
    {
     "data": {
      "text/plain": [
       "0.7666666666666667"
      ]
     },
     "execution_count": 10,
     "metadata": {},
     "output_type": "execute_result"
    }
   ],
   "source": [
    "np.mean(classes == classes_copy)"
   ]
  },
  {
   "cell_type": "code",
   "execution_count": 11,
   "metadata": {},
   "outputs": [
    {
     "data": {
      "text/plain": [
       "Text(0, 0.5, 'Stress (MPa)')"
      ]
     },
     "execution_count": 11,
     "metadata": {},
     "output_type": "execute_result"
    },
    {
     "data": {
      "image/png": "[encoded data removed]",
      "text/plain": [
       "<Figure size 432x288 with 1 Axes>"
      ]
     },
     "metadata": {
      "needs_background": "light"
     },
     "output_type": "display_data"
    }
   ],
   "source": [
    "Stress_re = Stress*Std_stress + Mean_stress\n",
    "plt.plot(Strain[classes==0],Stress_re[classes==0],\"o\",markersize = 12,label=\"Class 1\")\n",
    "plt.plot(Strain[classes==1],Stress_re[classes==1],\"x\",markersize = 12,label=\"Class 2\")\n",
    "plt.plot(Strain[classes==2],Stress_re[classes==2],\"s\",markersize = 12,label=\"Class 3\")\n",
    "plt.legend()\n",
    "plt.xlabel(\"Strain (MPa)\")\n",
    "plt.ylabel(\"Stress (MPa)\")\n"
   ]
  },
  {
   "cell_type": "code",
   "execution_count": 32,
   "metadata": {},
   "outputs": [],
   "source": [
    "from sklearn.cluster import AgglomerativeClustering\n",
    "agg = AgglomerativeClustering(n_clusters=3,compute_distances=True)\n",
    "\n",
    "T = agg.fit_predict(Stress)"
   ]
  },
  {
   "cell_type": "code",
   "execution_count": 33,
   "metadata": {},
   "outputs": [
    {
     "data": {
      "text/plain": [
       "Text(0, 0.5, 'Stress (MPa)')"
      ]
     },
     "execution_count": 33,
     "metadata": {},
     "output_type": "execute_result"
    },
    {
     "data": {
      "image/png": "[encoded data removed]",
      "text/plain": [
       "<Figure size 432x288 with 1 Axes>"
      ]
     },
     "metadata": {
      "needs_background": "light"
     },
     "output_type": "display_data"
    }
   ],
   "source": [
    "# Stress_re = Stress*Std_stress + Mean_stress\n",
    "plt.plot(Strain[T==0],Stress_re[T==0],\"o\",markersize = 12,label=\"Class 1\")\n",
    "plt.plot(Strain[T==1],Stress_re[T==1],\"x\",markersize = 12,label=\"Class 2\")\n",
    "plt.plot(Strain[T==2],Stress_re[T==2],\"s\",markersize = 12,label=\"Class 3\")\n",
    "plt.legend()\n",
    "plt.xlabel(\"Strain (MPa)\")\n",
    "plt.ylabel(\"Stress (MPa)\")"
   ]
  },
  {
   "cell_type": "code",
   "execution_count": 34,
   "metadata": {},
   "outputs": [
    {
     "data": {
      "text/plain": [
       "array([1.06480063e-03, 2.81290240e-03, 3.55000669e-03, 8.82254285e-03,\n",
       "       1.90311687e-02, 2.96673026e-02, 3.34480360e-02, 4.40399360e-02,\n",
       "       4.41912274e-02, 4.44713085e-02, 5.58659268e-02, 7.57873396e-02,\n",
       "       8.54873900e-02, 1.02232148e-01, 1.55218336e-01, 1.88269744e-01,\n",
       "       1.94138560e-01, 2.81688280e-01, 3.16366355e-01, 3.24709337e-01,\n",
       "       3.47191605e-01, 5.09940183e-01, 6.03440025e-01, 6.42905221e-01,\n",
       "       8.79105882e-01, 1.29937587e+00, 1.90034690e+00, 2.15971025e+00,\n",
       "       6.90565171e+00])"
      ]
     },
     "execution_count": 34,
     "metadata": {},
     "output_type": "execute_result"
    }
   ],
   "source": [
    "agg.distances_"
   ]
  },
  {
   "cell_type": "code",
   "execution_count": 37,
   "metadata": {},
   "outputs": [
    {
     "data": {
      "image/png": "[encoded data removed]",
      "text/plain": [
       "<Figure size 432x288 with 1 Axes>"
      ]
     },
     "metadata": {
      "needs_background": "light"
     },
     "output_type": "display_data"
    }
   ],
   "source": [
    "from scipy.cluster.hierarchy import dendrogram, ward,linkage\n",
    "def plot_dendrogram(model, **kwargs):\n",
    "    # Create linkage matrix and then plot the dendrogram\n",
    "\n",
    "    # create the counts of samples under each node\n",
    "    counts = np.zeros(model.children_.shape[0])\n",
    "    n_samples = len(model.labels_)\n",
    "    for i, merge in enumerate(model.children_):\n",
    "        current_count = 0\n",
    "        for child_idx in merge:\n",
    "            if child_idx < n_samples:\n",
    "                current_count += 1  # leaf node\n",
    "            else:\n",
    "                current_count += counts[child_idx - n_samples]\n",
    "        counts[i] = current_count\n",
    "\n",
    "    linkage_matrix = np.column_stack(\n",
    "        [model.children_, model.distances_, counts]\n",
    "    ).astype(float)\n",
    "\n",
    "    # Plot the corresponding dendrogram\n",
    "    dendrogram(linkage_matrix, **kwargs)\n",
    "\n",
    "plot_dendrogram(agg)"
   ]
  },
  {
   "cell_type": "code",
   "execution_count": 23,
   "metadata": {},
   "outputs": [
    {
     "data": {
      "text/plain": [
       "{'icoord': [[15.0, 15.0, 25.0, 25.0],\n",
       "  [5.0, 5.0, 20.0, 20.0],\n",
       "  [35.0, 35.0, 45.0, 45.0],\n",
       "  [12.5, 12.5, 40.0, 40.0],\n",
       "  [85.0, 85.0, 95.0, 95.0],\n",
       "  [75.0, 75.0, 90.0, 90.0],\n",
       "  [65.0, 65.0, 82.5, 82.5],\n",
       "  [115.0, 115.0, 125.0, 125.0],\n",
       "  [145.0, 145.0, 155.0, 155.0],\n",
       "  [135.0, 135.0, 150.0, 150.0],\n",
       "  [165.0, 165.0, 175.0, 175.0],\n",
       "  [195.0, 195.0, 205.0, 205.0],\n",
       "  [185.0, 185.0, 200.0, 200.0],\n",
       "  [170.0, 170.0, 192.5, 192.5],\n",
       "  [142.5, 142.5, 181.25, 181.25],\n",
       "  [120.0, 120.0, 161.875, 161.875],\n",
       "  [105.0, 105.0, 140.9375, 140.9375],\n",
       "  [73.75, 73.75, 122.96875, 122.96875],\n",
       "  [265.0, 265.0, 275.0, 275.0],\n",
       "  [255.0, 255.0, 270.0, 270.0],\n",
       "  [245.0, 245.0, 262.5, 262.5],\n",
       "  [235.0, 235.0, 253.75, 253.75],\n",
       "  [225.0, 225.0, 244.375, 244.375],\n",
       "  [285.0, 285.0, 295.0, 295.0],\n",
       "  [234.6875, 234.6875, 290.0, 290.0],\n",
       "  [215.0, 215.0, 262.34375, 262.34375],\n",
       "  [98.359375, 98.359375, 238.671875, 238.671875],\n",
       "  [55.0, 55.0, 168.515625, 168.515625],\n",
       "  [26.25, 26.25, 111.7578125, 111.7578125]],\n",
       " 'dcoord': [[0.0, 0.002812902403984685, 0.002812902403984685, 0.0],\n",
       "  [0.0, 0.03686427432427419, 0.03686427432427419, 0.002812902403984685],\n",
       "  [0.0, 0.18826974386009798, 0.18826974386009798, 0.0],\n",
       "  [0.03686427432427419,\n",
       "   0.2698701723039194,\n",
       "   0.2698701723039194,\n",
       "   0.18826974386009798],\n",
       "  [0.0, 0.003550006687116025, 0.003550006687116025, 0.0],\n",
       "  [0.0, 0.014706472175950391, 0.014706472175950391, 0.003550006687116025],\n",
       "  [0.0, 0.028689628677312395, 0.028689628677312395, 0.014706472175950391],\n",
       "  [0.0, 0.03344803596093815, 0.03344803596093815, 0.0],\n",
       "  [0.0, 0.008822542849300508, 0.008822542849300508, 0.0],\n",
       "  [0.0, 0.06962297999028888, 0.06962297999028888, 0.008822542849300508],\n",
       "  [0.0, 0.0010648006255181697, 0.0010648006255181697, 0.0],\n",
       "  [0.0, 0.0444713085026307, 0.0444713085026307, 0.0],\n",
       "  [0.0, 0.06629998300617079, 0.06629998300617079, 0.0444713085026307],\n",
       "  [0.0010648006255181697,\n",
       "   0.15848941894230328,\n",
       "   0.15848941894230328,\n",
       "   0.06629998300617079],\n",
       "  [0.06962297999028888,\n",
       "   0.1597104077439886,\n",
       "   0.1597104077439886,\n",
       "   0.15848941894230328],\n",
       "  [0.03344803596093815,\n",
       "   0.17203171695548913,\n",
       "   0.17203171695548913,\n",
       "   0.1597104077439886],\n",
       "  [0.0, 0.2151256373480892, 0.2151256373480892, 0.17203171695548913],\n",
       "  [0.028689628677312395,\n",
       "   0.22391498896673384,\n",
       "   0.22391498896673384,\n",
       "   0.2151256373480892],\n",
       "  [0.0, 0.029667302647733318, 0.029667302647733318, 0.0],\n",
       "  [0.0, 0.0355484699783859, 0.0355484699783859, 0.029667302647733318],\n",
       "  [0.0, 0.05080011002263063, 0.05080011002263063, 0.0355484699783859],\n",
       "  [0.0, 0.055865926796120235, 0.055865926796120235, 0.05080011002263063],\n",
       "  [0.0, 0.15700755805527267, 0.15700755805527267, 0.055865926796120235],\n",
       "  [0.0, 0.19413856021048317, 0.19413856021048317, 0.0],\n",
       "  [0.15700755805527267,\n",
       "   0.2062691334904032,\n",
       "   0.2062691334904032,\n",
       "   0.19413856021048317],\n",
       "  [0.0, 0.25422942257747644, 0.25422942257747644, 0.2062691334904032],\n",
       "  [0.22391498896673384,\n",
       "   0.25450179932401906,\n",
       "   0.25450179932401906,\n",
       "   0.25422942257747644],\n",
       "  [0.0, 0.28168828010583646, 0.28168828010583646, 0.25450179932401906],\n",
       "  [0.2698701723039194,\n",
       "   0.3445196521883914,\n",
       "   0.3445196521883914,\n",
       "   0.28168828010583646]],\n",
       " 'ivl': ['24',\n",
       "  '0',\n",
       "  '6',\n",
       "  '2',\n",
       "  '8',\n",
       "  '23',\n",
       "  '9',\n",
       "  '29',\n",
       "  '10',\n",
       "  '15',\n",
       "  '20',\n",
       "  '3',\n",
       "  '16',\n",
       "  '14',\n",
       "  '7',\n",
       "  '18',\n",
       "  '4',\n",
       "  '26',\n",
       "  '1',\n",
       "  '21',\n",
       "  '25',\n",
       "  '19',\n",
       "  '5',\n",
       "  '17',\n",
       "  '12',\n",
       "  '11',\n",
       "  '13',\n",
       "  '22',\n",
       "  '27',\n",
       "  '28'],\n",
       " 'leaves': [24,\n",
       "  0,\n",
       "  6,\n",
       "  2,\n",
       "  8,\n",
       "  23,\n",
       "  9,\n",
       "  29,\n",
       "  10,\n",
       "  15,\n",
       "  20,\n",
       "  3,\n",
       "  16,\n",
       "  14,\n",
       "  7,\n",
       "  18,\n",
       "  4,\n",
       "  26,\n",
       "  1,\n",
       "  21,\n",
       "  25,\n",
       "  19,\n",
       "  5,\n",
       "  17,\n",
       "  12,\n",
       "  11,\n",
       "  13,\n",
       "  22,\n",
       "  27,\n",
       "  28],\n",
       " 'color_list': ['C1',\n",
       "  'C1',\n",
       "  'C2',\n",
       "  'C0',\n",
       "  'C3',\n",
       "  'C3',\n",
       "  'C3',\n",
       "  'C3',\n",
       "  'C3',\n",
       "  'C3',\n",
       "  'C3',\n",
       "  'C3',\n",
       "  'C3',\n",
       "  'C3',\n",
       "  'C3',\n",
       "  'C3',\n",
       "  'C3',\n",
       "  'C3',\n",
       "  'C4',\n",
       "  'C4',\n",
       "  'C4',\n",
       "  'C4',\n",
       "  'C4',\n",
       "  'C4',\n",
       "  'C4',\n",
       "  'C0',\n",
       "  'C0',\n",
       "  'C0',\n",
       "  'C0'],\n",
       " 'leaves_color_list': ['C1',\n",
       "  'C1',\n",
       "  'C1',\n",
       "  'C2',\n",
       "  'C2',\n",
       "  'C0',\n",
       "  'C3',\n",
       "  'C3',\n",
       "  'C3',\n",
       "  'C3',\n",
       "  'C3',\n",
       "  'C3',\n",
       "  'C3',\n",
       "  'C3',\n",
       "  'C3',\n",
       "  'C3',\n",
       "  'C3',\n",
       "  'C3',\n",
       "  'C3',\n",
       "  'C3',\n",
       "  'C3',\n",
       "  'C0',\n",
       "  'C4',\n",
       "  'C4',\n",
       "  'C4',\n",
       "  'C4',\n",
       "  'C4',\n",
       "  'C4',\n",
       "  'C4',\n",
       "  'C4']}"
      ]
     },
     "execution_count": 23,
     "metadata": {},
     "output_type": "execute_result"
    },
    {
     "data": {
      "image/png": "[encoded data removed]",
      "text/plain": [
       "<Figure size 432x288 with 1 Axes>"
      ]
     },
     "metadata": {
      "needs_background": "light"
     },
     "output_type": "display_data"
    }
   ],
   "source": [
    "from scipy.cluster.hierarchy import dendrogram, ward,linkage\n",
    "\n",
    "linkage_array = linkage(Stress)\n",
    "dendrogram(linkage_array)"
   ]
  },
  {
   "cell_type": "code",
   "execution_count": 21,
   "metadata": {},
   "outputs": [
    {
     "data": {
      "text/plain": [
       "(array([[ 4, 26],\n",
       "        [ 0,  6],\n",
       "        [10, 15],\n",
       "        [ 7, 18],\n",
       "        [29, 32],\n",
       "        [13, 22],\n",
       "        [ 3, 16],\n",
       "        [24, 31],\n",
       "        [21, 25],\n",
       "        [ 9, 34],\n",
       "        [11, 17],\n",
       "        [14, 33],\n",
       "        [12, 35],\n",
       "        [ 1, 38],\n",
       "        [40, 42],\n",
       "        [ 2,  8],\n",
       "        [27, 28],\n",
       "        [30, 41],\n",
       "        [20, 23],\n",
       "        [19, 39],\n",
       "        [ 5, 44],\n",
       "        [36, 47],\n",
       "        [37, 45],\n",
       "        [43, 48],\n",
       "        [46, 50],\n",
       "        [49, 51],\n",
       "        [52, 54],\n",
       "        [53, 55],\n",
       "        [56, 57]]),\n",
       " 1,\n",
       " 30,\n",
       " None)"
      ]
     },
     "execution_count": 21,
     "metadata": {},
     "output_type": "execute_result"
    }
   ],
   "source": [
    "from scipy.cluster.hierarchy import dendrogram\n",
    "dendrogram(linkage)"
   ]
  },
  {
   "cell_type": "code",
   "execution_count": null,
   "metadata": {},
   "outputs": [],
   "source": []
  }
 ],
 "metadata": {
  "kernelspec": {
   "display_name": "Python 3.9.11 64-bit",
   "language": "python",
   "name": "python3"
  },
  "language_info": {
   "codemirror_mode": {
    "name": "ipython",
    "version": 3
   },
   "file_extension": ".py",
   "mimetype": "text/x-python",
   "name": "python",
   "nbconvert_exporter": "python",
   "pygments_lexer": "ipython3",
   "version": "3.9.11"
  },
  "orig_nbformat": 4,
  "vscode": {
   "interpreter": {
    "hash": "e450050b432e843bda3c41bf3272c133bfc370a7003f3e377e27f87a49ce1127"
   }
  }
 },
 "nbformat": 4,
 "nbformat_minor": 2
}
